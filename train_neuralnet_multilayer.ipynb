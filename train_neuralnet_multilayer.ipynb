{
 "cells": [
  {
   "cell_type": "code",
   "execution_count": 10,
   "id": "182b9549",
   "metadata": {},
   "outputs": [
    {
     "name": "stdout",
     "output_type": "stream",
     "text": [
      "layer number?2\n",
      "train acc, test acc | 0.06045, 0.0621\n",
      "train acc, test acc | 0.9032166666666667, 0.9064\n",
      "train acc, test acc | 0.9240833333333334, 0.9271\n",
      "train acc, test acc | 0.9356, 0.9384\n",
      "train acc, test acc | 0.9442333333333334, 0.9426\n",
      "train acc, test acc | 0.9503333333333334, 0.9473\n",
      "train acc, test acc | 0.9548333333333333, 0.9552\n",
      "train acc, test acc | 0.95875, 0.9549\n",
      "train acc, test acc | 0.96245, 0.9593\n",
      "train acc, test acc | 0.9662166666666666, 0.9619\n",
      "train acc, test acc | 0.9683833333333334, 0.964\n",
      "train acc, test acc | 0.9703333333333334, 0.9647\n",
      "train acc, test acc | 0.9719333333333333, 0.9673\n",
      "train acc, test acc | 0.9737666666666667, 0.9673\n",
      "train acc, test acc | 0.9764833333333334, 0.9711\n",
      "train acc, test acc | 0.9774333333333334, 0.9709\n",
      "train acc, test acc | 0.9787, 0.9702\n"
     ]
    },
    {
     "data": {
      "image/png": "[encoded data removed]",
      "text/plain": [
       "<Figure size 432x288 with 1 Axes>"
      ]
     },
     "metadata": {
      "needs_background": "light"
     },
     "output_type": "display_data"
    }
   ],
   "source": [
    "import sys, os\n",
    "sys.path.append(os.pardir)  # 부모 디렉터리의 파일을 가져올 수 있도록 설정\n",
    "import numpy as np\n",
    "import matplotlib.pyplot as plt\n",
    "from dataset.mnist import load_mnist\n",
    "from multilayer import Net\n",
    "\n",
    "(x_train,t_train), (x_test, t_test) = load_mnist(normalize=True,one_hot_label=True)\n",
    "network = Net(input_size=784,hidden_size=50,output_size=10)\n",
    "i_num = 10000\n",
    "train_size = x_train.shape[0]\n",
    "batch_size = 100\n",
    "lr = 0.1\n",
    "\n",
    "train_loss_list = []\n",
    "train_acc_list = []\n",
    "test_acc_list = []\n",
    "# 1 에폭당 반복 수\n",
    "iter_per_epoch = max(train_size / batch_size,1)\n",
    "\n",
    "for i in range(i_num):\n",
    "    batch_mask = np.random.choice(train_size, batch_size)\n",
    "    x_batch = x_train[batch_mask]\n",
    "    t_batch = t_train[batch_mask]\n",
    "    \n",
    "    grad = network.gradient(x_batch, t_batch)\n",
    "    \n",
    "    for key in network.params.keys():\n",
    "        network.params[key] -= lr*grad[key]\n",
    "    \n",
    "    loss = network.loss(x_batch, t_batch)\n",
    "    train_loss_list.append(loss)\n",
    "    \n",
    "    if i % iter_per_epoch == 0:\n",
    "        train_acc = network.accuracy(x_train, t_train)\n",
    "        test_acc = network.accuracy(x_test, t_test)\n",
    "        train_acc_list.append(train_acc)\n",
    "        test_acc_list.append(test_acc)\n",
    "        print(\"train acc, test acc | \" + str(train_acc) + \", \" + str(test_acc))\n",
    "\n",
    "markers = {'train': 'o', 'test': 's'}\n",
    "x = np.arange(len(train_acc_list))\n",
    "plt.plot(x, train_acc_list, label='train acc')\n",
    "plt.plot(x, test_acc_list, label='test acc', linestyle='--')\n",
    "plt.xlabel(\"epochs\")\n",
    "plt.ylabel(\"accuracy\")\n",
    "plt.ylim(0, 1.0)\n",
    "plt.legend(loc='lower right')\n",
    "plt.show()\n"
   ]
  },
  {
   "cell_type": "code",
   "execution_count": null,
   "id": "db97e97b",
   "metadata": {},
   "outputs": [],
   "source": []
  }
 ],
 "metadata": {
  "kernelspec": {
   "display_name": "Python 3 (ipykernel)",
   "language": "python",
   "name": "python3"
  },
  "language_info": {
   "codemirror_mode": {
    "name": "ipython",
    "version": 3
   },
   "file_extension": ".py",
   "mimetype": "text/x-python",
   "name": "python",
   "nbconvert_exporter": "python",
   "pygments_lexer": "ipython3",
   "version": "3.9.6"
  }
 },
 "nbformat": 4,
 "nbformat_minor": 5
}
